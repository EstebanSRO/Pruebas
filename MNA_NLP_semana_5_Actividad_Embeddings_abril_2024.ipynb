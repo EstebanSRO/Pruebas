{
  "cells": [
    {
      "cell_type": "markdown",
      "metadata": {
        "id": "lNl8G3vHkPSX"
      },
      "source": [
        "# **Maestría en Inteligencia Artificial Aplicada**\n",
        "\n",
        "## Curso: **Procesamiento de Lenguaje Natural**\n",
        "\n",
        "### Tecnológico de Monterrey\n",
        "\n",
        "### Prof Luis Eduardo Falcón Morales\n",
        "\n",
        "## Adtividad Semana 5\n",
        "\n",
        "### **Vectores Embebidos Pre-entrenados: Fasttext**"
      ]
    },
    {
      "cell_type": "markdown",
      "metadata": {
        "id": "U69mHA6i201G"
      },
      "source": [
        "#### **Nombres y matrículas de los integrantes del equipo:**\n",
        "\n",
        "\n",
        "\n",
        "*   **Nombre:** Daniela Sánchez\n",
        "*   **Matrícula:** A01749492\n",
        "\n",
        "*   **Nombre:** Esteban Sánchez\n",
        "*   **Matrícula:** A01740631\n",
        "\n"
      ]
    },
    {
      "cell_type": "code",
      "execution_count": 1,
      "metadata": {
        "id": "wCL2p6MA8NuT"
      },
      "outputs": [],
      "source": [
        "# Aquí deberás incluir todas las librerías que requieras durante esta actividad:\n",
        "\n",
        "import pandas as pd\n",
        "import numpy as np\n",
        "import re\n",
        "import nltk\n",
        "from nltk.corpus import stopwords\n",
        "from nltk.stem import WordNetLemmatizer\n",
        "from sklearn.model_selection import train_test_split\n",
        "import gensim.downloader as api\n",
        "from sklearn.linear_model import LogisticRegression\n",
        "from sklearn.ensemble import RandomForestClassifier\n",
        "from sklearn.metrics import classification_report, confusion_matrix\n",
        "from tqdm import tqdm\n",
        "import pickle\n",
        "from collections import Counter\n",
        "from sklearn.metrics import accuracy_score, classification_report\n",
        "from gensim.models import KeyedVectors\n",
        "from nltk.tokenize import word_tokenize\n",
        "from autocorrect import Speller\n",
        "from wordcloud import WordCloud\n",
        "import matplotlib.pyplot as plt"
      ]
    },
    {
      "cell_type": "markdown",
      "metadata": {
        "id": "4c34ZOnna3Gu"
      },
      "source": [
        "##**Pregunta - 1:**\n",
        "\n"
      ]
    },
    {
      "cell_type": "markdown",
      "metadata": {
        "id": "yeNllxRdmeWg"
      },
      "source": [
        "Descarga los 3 archivos de Canvas y genera un nuevo DataFrame de Pandas con ellos.\n",
        "\n",
        "**Llama simplemente \"df\" a dicho DataFrame.**\n",
        "\n",
        "Los archivos los encuentras en Canvas: amazon5.txt, imdb5.txt, yelp5.txt.\n",
        "\n"
      ]
    },
    {
      "cell_type": "code",
      "execution_count": 2,
      "metadata": {
        "id": "T_lyEFRkxzC6"
      },
      "outputs": [],
      "source": [
        "\n",
        "# ******* Inlcuye a continuación todas las líneas de código y celdas que requieras: ***********\n",
        "\n",
        "# Cargar los archivos de datos\n",
        "amazon_df = pd.read_csv('Datos/amazon5.txt', sep='\\t', header=None, names=['Review', 'Sentiment'])\n",
        "imdb_df = pd.read_csv('Datos/imdb5.txt', sep='\\t', header=None, names=['Review', 'Sentiment'])\n",
        "yelp_df = pd.read_csv('Datos/yelp5.txt', sep='\\t', header=None, names=['Review', 'Sentiment'])\n",
        "\n",
        "# Concatenar los DataFrames\n",
        "df = pd.concat([amazon_df, imdb_df, yelp_df], ignore_index=True)\n",
        "\n",
        "# *********** Aquí termina la sección de agregar código *************\n"
      ]
    },
    {
      "cell_type": "code",
      "execution_count": 3,
      "metadata": {
        "id": "3-w1xMLYnm9b"
      },
      "outputs": [
        {
          "name": "stdout",
          "output_type": "stream",
          "text": [
            "<class 'pandas.core.frame.DataFrame'>\n",
            "RangeIndex: 3000 entries, 0 to 2999\n",
            "Data columns (total 2 columns):\n",
            " #   Column     Non-Null Count  Dtype  \n",
            "---  ------     --------------  -----  \n",
            " 0   Review     3000 non-null   object \n",
            " 1   Sentiment  2000 non-null   float64\n",
            "dtypes: float64(1), object(1)\n",
            "memory usage: 47.0+ KB\n"
          ]
        }
      ],
      "source": [
        "# Verifiquemos la información del DataFrame:\n",
        "df.info()"
      ]
    },
    {
      "cell_type": "code",
      "execution_count": 4,
      "metadata": {
        "id": "NfVUcYe1nubT"
      },
      "outputs": [
        {
          "data": {
            "text/html": [
              "<div>\n",
              "<style scoped>\n",
              "    .dataframe tbody tr th:only-of-type {\n",
              "        vertical-align: middle;\n",
              "    }\n",
              "\n",
              "    .dataframe tbody tr th {\n",
              "        vertical-align: top;\n",
              "    }\n",
              "\n",
              "    .dataframe thead th {\n",
              "        text-align: right;\n",
              "    }\n",
              "</style>\n",
              "<table border=\"1\" class=\"dataframe\">\n",
              "  <thead>\n",
              "    <tr style=\"text-align: right;\">\n",
              "      <th></th>\n",
              "      <th>Review</th>\n",
              "      <th>Sentiment</th>\n",
              "    </tr>\n",
              "  </thead>\n",
              "  <tbody>\n",
              "    <tr>\n",
              "      <th>0</th>\n",
              "      <td>So there is no way for me to plug it in here i...</td>\n",
              "      <td>0.0</td>\n",
              "    </tr>\n",
              "    <tr>\n",
              "      <th>1</th>\n",
              "      <td>Good case, Excellent value.</td>\n",
              "      <td>1.0</td>\n",
              "    </tr>\n",
              "    <tr>\n",
              "      <th>2</th>\n",
              "      <td>Great for the jawbone.</td>\n",
              "      <td>1.0</td>\n",
              "    </tr>\n",
              "    <tr>\n",
              "      <th>3</th>\n",
              "      <td>Tied to charger for conversations lasting more...</td>\n",
              "      <td>0.0</td>\n",
              "    </tr>\n",
              "    <tr>\n",
              "      <th>4</th>\n",
              "      <td>The mic is great.</td>\n",
              "      <td>1.0</td>\n",
              "    </tr>\n",
              "  </tbody>\n",
              "</table>\n",
              "</div>"
            ],
            "text/plain": [
              "                                              Review  Sentiment\n",
              "0  So there is no way for me to plug it in here i...        0.0\n",
              "1                        Good case, Excellent value.        1.0\n",
              "2                             Great for the jawbone.        1.0\n",
              "3  Tied to charger for conversations lasting more...        0.0\n",
              "4                                  The mic is great.        1.0"
            ]
          },
          "execution_count": 4,
          "metadata": {},
          "output_type": "execute_result"
        }
      ],
      "source": [
        "# Y veamos sus primeros registros:\n",
        "\n",
        "df.head()"
      ]
    },
    {
      "cell_type": "markdown",
      "metadata": {
        "id": "MfZZ0stLmWJN"
      },
      "source": [
        "##**Pregunta - 2:**"
      ]
    },
    {
      "cell_type": "markdown",
      "metadata": {
        "id": "7F6JF5BommZ6"
      },
      "source": [
        "Realiza el proceso de limpieza.\n",
        "\n",
        "Aplica el preprocesamiento que consideres adecuado, sin embargo, deberás aplicar necesariamente alguna de las técnicas de lematización.\n",
        "\n",
        "\n",
        "\n",
        "\n",
        "\n",
        "\n",
        "\n",
        "\n",
        "\n"
      ]
    },
    {
      "cell_type": "code",
      "execution_count": 5,
      "metadata": {},
      "outputs": [
        {
          "name": "stdout",
          "output_type": "stream",
          "text": [
            "Número de stopwords:  139\n",
            "Ejemplo de stopwords: ['him', 'more', 'by', 'we', \"you'd\", 'should', \"she's\", 'a', 'up', 'they']\n"
          ]
        }
      ],
      "source": [
        "# Listas de stopwords y negaciones a preservar\n",
        "stop_words = set(stopwords.words('english'))  # Stopwords en inglés\n",
        "negwords = {'no', 'nor', 'not', 'ain', 'aren', \"aren't\", 'don', \"don't\", 'couldn', \"couldn't\", 'didn', \"didn't\", 'doesn', \"doesn't\", 'hadn', \"hadn't\", 'hasn', \"hasn't\", 'haven', \"haven't\", 'isn', \"isn't\", 'mightn', \"mightn't\", 'mustn', \"mustn't\", 'needn', \"needn't\", 'shan', \"shan't\", 'shouldn', \"shouldn't\", 'wasn', \"wasn't\", 'weren', \"weren't\", 'won', \"won't\", 'wouldn', \"wouldn't\"}\n",
        "\n",
        "# Actualizar la lista de stopwords removiendo las negaciones\n",
        "custom_stopwords = stop_words - negwords\n",
        "\n",
        "print(\"Número de stopwords: \", len(custom_stopwords))\n",
        "print(\"Ejemplo de stopwords:\", list(custom_stopwords)[:10])"
      ]
    },
    {
      "cell_type": "code",
      "execution_count": 6,
      "metadata": {},
      "outputs": [
        {
          "name": "stdout",
          "output_type": "stream",
          "text": [
            "                                              Review  \\\n",
            "0  So there is no way for me to plug it in here i...   \n",
            "1                        Good case, Excellent value.   \n",
            "2                             Great for the jawbone.   \n",
            "3  Tied to charger for conversations lasting more...   \n",
            "4                                  The mic is great.   \n",
            "\n",
            "                                        Clean_Review  \n",
            "0                  no way plug u unless go converter  \n",
            "1                          good case excellent value  \n",
            "2                                      great jawbone  \n",
            "3  tied charger conversation lasting minutesmajor...  \n",
            "4                                          mic great  \n",
            "Comentarios Positivos - Original y Limpio:\n",
            "                                         Review               Clean_Review\n",
            "1                   Good case, Excellent value.  good case excellent value\n",
            "2                        Great for the jawbone.              great jawbone\n",
            "4                             The mic is great.                  mic great\n",
            "7   If you are Razr owner...you must have this!         razr owneryou must\n",
            "10              And the sound quality is great.        sound quality great\n",
            "\n",
            "Comentarios Negativos - Original y Limpio:\n",
            "                                              Review  \\\n",
            "0  So there is no way for me to plug it in here i...   \n",
            "3  Tied to charger for conversations lasting more...   \n",
            "5  I have to jiggle the plug to get it to line up...   \n",
            "6  If you have several dozen or several hundred c...   \n",
            "8                Needless to say, I wasted my money.   \n",
            "\n",
            "                                        Clean_Review  \n",
            "0                  no way plug u unless go converter  \n",
            "3  tied charger conversation lasting minutesmajor...  \n",
            "5       jiggle plug get line right get decent volume  \n",
            "6  several dozen several hundred contact imagine ...  \n",
            "8                            needle say wasted money  \n"
          ]
        }
      ],
      "source": [
        "# Preparar el lematizador y las stopwords\n",
        "lemmatizer = WordNetLemmatizer()\n",
        "stop_words = set(stopwords.words('english'))\n",
        "\n",
        "# Contracciones comunes y su expansión\n",
        "contractions = {\n",
        "    \"isn't\": \"is not\", \"aren't\": \"are not\", \"wasn't\": \"was not\", \"weren't\": \"were not\",\n",
        "    \"haven't\": \"have not\", \"hasn't\": \"has not\", \"hadn't\": \"had not\", \"won't\": \"will not\",\n",
        "    \"wouldn't\": \"would not\", \"don't\": \"do not\", \"doesn't\": \"does not\", \"didn't\": \"did not\",\n",
        "    \"can't\": \"cannot\", \"couldn't\": \"could not\", \"shouldn't\": \"should not\",\n",
        "    \"mightn't\": \"might not\", \"mustn't\": \"must not\"\n",
        "}\n",
        "\n",
        "# Eliminar palabras negativas de stopwords\n",
        "negwords = ['no', 'nor', 'not', 'ain', 'aren', \"aren't\", 'don', \"don't\", 'couldn', \"couldn't\", 'didn', \"didn't\", 'doesn', \"doesn't\", 'hadn', \"hadn't\", 'hasn', \"hasn't\", 'haven', \"haven't\", 'isn', \"isn't\", 'mightn', \"mightn't\", 'mustn', \"mustn't\", 'needn', \"needn't\", 'shan', \"shan't\", 'shouldn', \"shouldn't\", 'wasn', \"wasn't\", 'weren', \"weren't\", 'won', \"won't\", 'wouldn', \"wouldn't\"]\n",
        "\n",
        "mystopwords = stopwords.words('english')\n",
        "for x in mystopwords:\n",
        "    if x in negwords:\n",
        "        mystopwords.remove(x)\n",
        "\n",
        "def clean_text(review, sentiment):\n",
        "    # Expandir contracciones\n",
        "    for word in review.split():\n",
        "        if word.lower() in contractions:\n",
        "            review = review.replace(word, contractions[word.lower()])\n",
        "    \n",
        "    # Normalización y limpieza básica\n",
        "    review = review.lower()\n",
        "    review = re.sub(r'https?://\\S+|www\\.\\S+', '', review)  # Eliminar URLs\n",
        "    review = re.sub(r'<.*?>', '', review)  # Eliminar HTML tags\n",
        "    review = re.sub(r'[^a-z\\s]', '', review)  # Se conservan solo letras y espacios\n",
        "\n",
        "    # Tokenización\n",
        "    tokens = word_tokenize(review)\n",
        "\n",
        "    # Eliminación de stopwords\n",
        "    tokens = [token for token in tokens if token not in mystopwords]\n",
        "\n",
        "    # Eliminación selectiva de palabras en comentarios negativos y positivos\n",
        "    if sentiment == 0:\n",
        "        tokens = [token for token in tokens if token not in {'food', 'place', 'service', 'phone', 'time', 'good', 'one'}]\n",
        "    else:\n",
        "        tokens = [token for token in tokens if token not in {'service', 'place'}]\n",
        "\n",
        "    # Lematización\n",
        "    tokens = [lemmatizer.lemmatize(token) for token in tokens]\n",
        "\n",
        "    return ' '.join(tokens)\n",
        "\n",
        "# Aplicar la limpieza con condición basada en el sentimiento\n",
        "df['Clean_Review'] = df.apply(lambda row: clean_text(row['Review'], row['Sentiment']), axis=1)\n",
        "\n",
        "# Verificar y eliminar filas con NaN en 'Clean_Review' o 'Sentiment'\n",
        "df.dropna(subset=['Clean_Review', 'Sentiment'], inplace=True)\n",
        "\n",
        "# Imprimir los primeros datos limpios\n",
        "print(df[['Review', 'Clean_Review']].head())\n",
        "\n",
        "# Filtrar los comentarios positivos y negativos\n",
        "positive_reviews = df[df['Sentiment'] == 1][['Review', 'Clean_Review']]\n",
        "negative_reviews = df[df['Sentiment'] == 0][['Review', 'Clean_Review']]\n",
        "\n",
        "# Imprimir los primeros 5 comentarios positivos\n",
        "print(\"Comentarios Positivos - Original y Limpio:\")\n",
        "print(positive_reviews.head())\n",
        "\n",
        "# Imprimir los primeros 5 comentarios negativos\n",
        "print(\"\\nComentarios Negativos - Original y Limpio:\")\n",
        "print(negative_reviews.head())"
      ]
    },
    {
      "cell_type": "code",
      "execution_count": 7,
      "metadata": {
        "id": "7jlQuoI2o33T"
      },
      "outputs": [
        {
          "name": "stdout",
          "output_type": "stream",
          "text": [
            "no way plug u unless go converter\n",
            "good case excellent value\n",
            "great jawbone\n",
            "tied charger conversation lasting minutesmajor problem\n",
            "mic great\n"
          ]
        }
      ],
      "source": [
        "# Despleguemos los primeros comentarios después de tu proceso de limpieza:\n",
        "\n",
        "Xclean = df['Clean_Review'].head(5).tolist()\n",
        "for x in Xclean:\n",
        "  print(x)\n"
      ]
    },
    {
      "cell_type": "markdown",
      "metadata": {
        "id": "ygchEdcKqIzU"
      },
      "source": [
        "#**Pregunta - 3:**\n"
      ]
    },
    {
      "cell_type": "markdown",
      "metadata": {
        "id": "7wEIOkkl9Dot"
      },
      "source": [
        "\n",
        "Realicemos una partición aleatoria con los mismos porcentajes de la práctica pasada para poder comparar dichos resultados con los de\n",
        "esta actividad, a saber, 70%, 15% y 15%, para entrenamiento, validación y prueba, respectivamente."
      ]
    },
    {
      "cell_type": "code",
      "execution_count": 8,
      "metadata": {
        "id": "b0SAcYdq9X0w"
      },
      "outputs": [
        {
          "name": "stdout",
          "output_type": "stream",
          "text": [
            "X,y Train: 1400 1400\n",
            "X,y Val: 300 300\n",
            "X,y Test 300 300\n"
          ]
        }
      ],
      "source": [
        "\n",
        "# ************* Inicia la sección de agregar código:*****************************\n",
        "\n",
        "# Dividir los datos en conjuntos de entrenamiento y temporal\n",
        "x_train, x_temp, y_train, y_temp = train_test_split(\n",
        "    df['Clean_Review'], df['Sentiment'], test_size=0.30, random_state=42)\n",
        "\n",
        "# Dividir el conjunto temporal en validación y prueba\n",
        "x_val, x_test, y_val, y_test = train_test_split(\n",
        "    x_temp, y_temp, test_size=0.50, random_state=42)\n",
        "\n",
        "# *********** Termina la sección de agregar código *************\n",
        "\n",
        "\n",
        "# verificemos las dimensiones obtenidas:\n",
        "print('X,y Train:', len(x_train), len(y_train))\n",
        "print('X,y Val:', len(x_val), len(y_val))\n",
        "print('X,y Test', len(x_test), len(y_test))"
      ]
    },
    {
      "cell_type": "markdown",
      "metadata": {
        "id": "1qjKoEqiqBN1"
      },
      "source": [
        "#**Pregunta - 4:**"
      ]
    },
    {
      "cell_type": "markdown",
      "metadata": {
        "id": "jENsKiN99r3F"
      },
      "source": [
        "\n",
        "\n",
        "Construye tu vocabulario a continuación\n"
      ]
    },
    {
      "cell_type": "code",
      "execution_count": 9,
      "metadata": {
        "id": "TzJntmLPqPqC"
      },
      "outputs": [],
      "source": [
        "# a.\tUsa el conjunto de entrenamiento para generar tu vocabulario\n",
        "#     con un tamaño que consideres adecuado:\n",
        "\n",
        "\n",
        "# ******* Inlcuye a continuación todas las líneas de código y celdas que requieras: ***********\n",
        "\n",
        "word_counts = Counter(word for sentence in x_train for word in sentence.split())# Frecuencia de cada palabra\n",
        "vocab = {word for word, count in word_counts.items() if count >= 3 and len(word) >= 3} # Filtrar palabras \n",
        "\n",
        "# *********** Aquí termina la sección de agregar código *************"
      ]
    },
    {
      "cell_type": "code",
      "execution_count": 10,
      "metadata": {
        "id": "yTDZ0Rr86CUP"
      },
      "outputs": [
        {
          "name": "stdout",
          "output_type": "stream",
          "text": [
            "Longitud del vocabulario generado: 592\n"
          ]
        }
      ],
      "source": [
        "# b.\tIndica el tamaño del vocabulario generado.\n",
        "\n",
        "print('Longitud del vocabulario generado:', len(vocab))"
      ]
    },
    {
      "cell_type": "markdown",
      "metadata": {
        "id": "NDa4EhTqrw15"
      },
      "source": [
        "c.\t¿Por qué debe usarse solamente el conjunto de entrenamiento para generar el vocabulario?\n",
        "\n",
        "\n",
        "### ++++++++ Inicia la sección de agregar texto: +++++++++++\n",
        "\n",
        "Es importante usar solo el conjunto de entrenamiento para generar el vocabulario para evitar contaminar los datos de validación y prueba, y para mantener la integridad de la evaluación del modelo. Si incluimos palabras del conjunto de validación o prueba, estaríamos introduciendo información en el modelo durante la fase de entrenamiento, lo cual podría llevar a una evaluación sesgada y poco confiable del desempeño real del modelo.\n",
        "\n",
        "### ++++++++ Termina la sección de agregar texto: +++++++++++\n"
      ]
    },
    {
      "cell_type": "code",
      "execution_count": 11,
      "metadata": {
        "id": "7ykjxQI3rpxx"
      },
      "outputs": [],
      "source": [
        "# d.\tCon el vocabulario generado, filtra los conjuntos de entrenamiento,\n",
        "#     validación y prueba para que todos los comentarios usen solamente las\n",
        "#     palabras de este vocabulario.\n",
        "\n",
        "#     Llamar train_x, val_x y test_x a estos tres conjuntos.\n",
        "\n",
        "\n",
        "# ******* Inlcuye a continuación todas las líneas de código y celdas que requieras: ***********\n",
        "\n",
        "# Función para filtrar palabras basadas en el vocabulario\n",
        "def filter_words(sentence):\n",
        "    return ' '.join(word for word in sentence.split() if word in vocab)\n",
        "\n",
        "# Aplicar filtro a los conjuntos de datos\n",
        "train_x = x_train.apply(filter_words)\n",
        "val_x = x_val.apply(filter_words)\n",
        "test_x = x_test.apply(filter_words)\n",
        "\n",
        "# *********** Aquí termina la sección de agregar código *************\n"
      ]
    },
    {
      "cell_type": "code",
      "execution_count": 12,
      "metadata": {
        "id": "iYF2RGuPtQTC"
      },
      "outputs": [
        {
          "name": "stdout",
          "output_type": "stream",
          "text": [
            "horrible horrible\n",
            "barely ever hear\n",
            "purchased family friend enjoy clarity ease use\n",
            "possible give zero star\n",
            "buffet small bland\n"
          ]
        }
      ],
      "source": [
        "# Vemos el resultado de los primeros comentarios del conjunto de entrenamiento:\n",
        "\n",
        "for ss in train_x[0:5]:\n",
        "  print(ss)"
      ]
    },
    {
      "cell_type": "markdown",
      "metadata": {
        "id": "RS0Hxj25vTWh"
      },
      "source": [
        "#**Pregunta - 5:**"
      ]
    },
    {
      "cell_type": "markdown",
      "metadata": {
        "id": "CnHHAza5_P5Z"
      },
      "source": [
        "\n",
        "a. Incluye una tabla comparativa de pros y contras entre los modelos FastText, word2vec de Google y Glove de Stanford."
      ]
    },
    {
      "cell_type": "markdown",
      "metadata": {
        "id": "uTI9xSgF_Xc8"
      },
      "source": [
        "### ++++++++ Inicia la sección de agregar texto: +++++++++++\n",
        "\n",
        "![image.png](data:image/png;base64,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)\n",
        "\n",
        "Tabla realizada en Excel con la información encontrada en las páginas refereciadas en el pdf de instrucciones.\n",
        "\n",
        "### ++++++++ Termina la sección de agregar texto: +++++++++++\n"
      ]
    },
    {
      "cell_type": "markdown",
      "metadata": {
        "id": "ToqRl7fT_fn2"
      },
      "source": [
        "#**Pregunta - 6:**\n",
        "\n",
        "Utiliza el modelo FastText de vectores embebidos pre-entrenados de dimensión 300 para generar un nuevo diccionario clave-valor, donde la “clave” será cada token o palabra de tu vocabulario y el “valor” será su vector embebido de dimensión 300.\n",
        "\n",
        "Este diccionario deberá ser del mismo tamaño que el vocabulario previo que hayas construido previamente.\n",
        "\n",
        "Es recomendable que una vez que generes el nuevo vocabulario de vectores embebidos, guardes dicho diccionario en un archivo.\n",
        "\n",
        "Recuerda borrar la variable donde descargaste los 2 millones de vectores embebidos Fasttext.\n",
        "\n"
      ]
    },
    {
      "cell_type": "code",
      "execution_count": 13,
      "metadata": {},
      "outputs": [
        {
          "name": "stdout",
          "output_type": "stream",
          "text": [
            "Total de palabras en el vocabulario: 592\n",
            "Total de palabras cargadas desde FastText: 592\n",
            "Total de palabras en el modelo FastText: 2000000\n"
          ]
        }
      ],
      "source": [
        "# ******* Inlcuye a continuación todas las líneas de código y celdas que requieras: ***********\n",
        "\n",
        "import requests\n",
        "import gzip\n",
        "import shutil\n",
        "\n",
        "# URL del archivo FastText\n",
        "url = \"https://dl.fbaipublicfiles.com/fasttext/vectors-crawl/cc.en.300.vec.gz\"\n",
        "response = requests.get(url, stream=True)\n",
        "\n",
        "# Guardar el archivo gz descargado\n",
        "with open(\"cc.en.300.vec.gz\", 'wb') as f:\n",
        "    f.write(response.content)\n",
        "\n",
        "# Descomprimir el archivo\n",
        "with gzip.open('cc.en.300.vec.gz', 'rb') as f_in:\n",
        "    with open('cc.en.300.vec', 'wb') as f_out:\n",
        "        shutil.copyfileobj(f_in, f_out)\n",
        "\n",
        "fasttext_vectors = {}\n",
        "with open(\"cc.en.300.vec\", \"r\", encoding=\"utf-8\") as file:\n",
        "    next(file)  # Saltar la primera línea con la cuenta de palabras y dimensiones\n",
        "    for line in file:\n",
        "        values = line.strip().split()\n",
        "        word = values[0]\n",
        "        vector = np.array(values[1:], dtype=np.float32)\n",
        "        fasttext_vectors[word] = vector\n",
        "\n",
        "words_found = 0\n",
        "embedding_dict = {}\n",
        "\n",
        "for word in vocab:\n",
        "    if word in fasttext_vectors:\n",
        "        embedding_dict[word] = fasttext_vectors[word]\n",
        "        words_found += 1\n",
        "    else:\n",
        "        embedding_dict[word] = np.zeros(300)  # Asumiendo que cada vector tiene 300 dimensiones\n",
        "\n",
        "# Impresión de la información solicitada\n",
        "print(f\"Total de palabras en el vocabulario: {len(vocab)}\")\n",
        "print(f\"Total de palabras cargadas desde FastText: {words_found}\")\n",
        "print(f\"Total de palabras en el modelo FastText: {len(fasttext_vectors)}\")\n",
        "\n",
        "# *********** Aquí termina la sección de agregar código *************\n"
      ]
    },
    {
      "cell_type": "markdown",
      "metadata": {
        "id": "W4S7q0yR0Mpi"
      },
      "source": [
        "#**Pregunta - 7:**"
      ]
    },
    {
      "cell_type": "markdown",
      "metadata": {
        "id": "VyeOrkoaC1eq"
      },
      "source": [
        "\n",
        "\n",
        "Generamos los vectores embebidos a paertir de los conjuntos de entrenamiento, validación y preuba.\n",
        "\n",
        "Los llamaremos trainEmb, valEmb y testEmb, respectivamente."
      ]
    },
    {
      "cell_type": "code",
      "execution_count": 14,
      "metadata": {
        "id": "wnfQpkxg0Usq"
      },
      "outputs": [],
      "source": [
        "# ******* Inlcuye a continuación todas las líneas de código y celdas que requieras: ***********\n",
        "\n",
        "import numpy as np\n",
        "\n",
        "def comment_to_vector(comment, embedding_dict):\n",
        "    # Dividir el comentario en palabras y filtrar aquellas que no están en el diccionario\n",
        "    words = [word for word in comment.split() if word in embedding_dict and embedding_dict[word] is not None]\n",
        "    # Obtener los vectores para las palabras filtradas\n",
        "    if words:\n",
        "        vectors = [embedding_dict[word] for word in words]\n",
        "        # Calcular el vector promedio\n",
        "        vector = np.mean(vectors, axis=0)\n",
        "    else:\n",
        "        # Si no hay palabras válidas en el comentario, retornar un vector de ceros\n",
        "        vector = np.zeros(300)  # Asumiendo que la dimensión del vector es 300\n",
        "    return vector\n",
        "\n",
        "# Aplicar la función a cada conjunto de datos\n",
        "trainEmb = np.array([comment_to_vector(comment, embedding_dict) for comment in train_x])\n",
        "valEmb = np.array([comment_to_vector(comment, embedding_dict) for comment in val_x])\n",
        "testEmb = np.array([comment_to_vector(comment, embedding_dict) for comment in test_x])\n",
        "\n",
        "# *********** Aquí termina la sección de agregar código *************"
      ]
    },
    {
      "cell_type": "code",
      "execution_count": 15,
      "metadata": {
        "id": "J3BBF96D0N8Z"
      },
      "outputs": [
        {
          "name": "stdout",
          "output_type": "stream",
          "text": [
            "Train-Emb: (1400, 300)\n",
            "Val-Emb: (300, 300)\n",
            "Test-Emb: (300, 300)\n"
          ]
        }
      ],
      "source": [
        "# Veamos las dimensiones de cada conjunto embebido:\n",
        "\n",
        "print(\"Train-Emb:\", trainEmb.shape)\n",
        "print(\"Val-Emb:\", valEmb.shape)\n",
        "print(\"Test-Emb:\", testEmb.shape)"
      ]
    },
    {
      "cell_type": "markdown",
      "metadata": {
        "id": "pibp1LA91CP_"
      },
      "source": [
        "#**Pregunta - 8:**\n"
      ]
    },
    {
      "cell_type": "markdown",
      "metadata": {
        "id": "UxC9K0VnGOwG"
      },
      "source": [
        "\n",
        "Utiliza los modelos de regresión logística y bosque aleatorio (random forest) y encuentra sus desempeños.\n",
        "\n",
        "Compara los resultados con los de la semana anterior."
      ]
    },
    {
      "cell_type": "code",
      "execution_count": 31,
      "metadata": {
        "id": "ycwjD8ztGOL7"
      },
      "outputs": [
        {
          "name": "stdout",
          "output_type": "stream",
          "text": [
            "Resultados para Regresión Logística:\n",
            "LR: Train-accuracy: 85.07%\n",
            "LR: Val-accuracy: 82.33%\n"
          ]
        }
      ],
      "source": [
        "# REGRESIÓN LOGÍSTICA:\n",
        "\n",
        "# ******* Inlcuye a continuación todas las líneas de código y celdas que requieras: ***********\n",
        "\n",
        "# Entrenar el modelo de Regresión Logística\n",
        "logistic_model = LogisticRegression(max_iter=100, C=1.0)\n",
        "logistic_model.fit(trainEmb, y_train)\n",
        "\n",
        "# Calcular y mostrar la exactitud de entrenamiento y validación\n",
        "train_accuracy_logistic = logistic_model.score(trainEmb, y_train) * 100\n",
        "val_accuracy_logistic = logistic_model.score(valEmb, y_val) * 100\n",
        "\n",
        "print(\"Resultados para Regresión Logística:\")\n",
        "print(f'LR: Train-accuracy: {train_accuracy_logistic:.2f}%')\n",
        "print(f'LR: Val-accuracy: {val_accuracy_logistic:.2f}%')\n",
        "\n",
        "# *********** Aquí termina la sección de agregar código *************\n"
      ]
    },
    {
      "cell_type": "code",
      "execution_count": 30,
      "metadata": {
        "id": "N4n70GHW0sl3"
      },
      "outputs": [
        {
          "name": "stdout",
          "output_type": "stream",
          "text": [
            "Resultados para Random Forest:\n",
            "\n",
            "RF: Train-accuracy: 98.93%\n",
            "RF: Val-accuracy: 83.00%\n"
          ]
        }
      ],
      "source": [
        "# BOSQUE ALEATORIO (Random Forest):\n",
        "\n",
        "# ******* Inlcuye a continuación todas las líneas de código y celdas que requieras: ***********\n",
        "\n",
        "# Entrenar el modelo de Bosque Aleatorio\n",
        "random_forest_model = RandomForestClassifier(n_estimators=100, random_state=42)\n",
        "random_forest_model.fit(trainEmb, y_train)\n",
        "\n",
        "# Calcular y mostrar la exactitud de entrenamiento y validación\n",
        "train_accuracy_forest = random_forest_model.score(trainEmb, y_train) * 100\n",
        "val_accuracy_forest = random_forest_model.score(valEmb, y_val) * 100\n",
        "\n",
        "print(\"Resultados para Random Forest:\")\n",
        "print(f'\\nRF: Train-accuracy: {train_accuracy_forest:.2f}%')\n",
        "print(f'RF: Val-accuracy: {val_accuracy_forest:.2f}%')\n",
        "\n",
        "# *********** Aquí termina la sección de agregar código *************"
      ]
    },
    {
      "cell_type": "markdown",
      "metadata": {
        "id": "WDIiSHvg0_hm"
      },
      "source": [
        "#**Pregunta - 9:**"
      ]
    },
    {
      "cell_type": "markdown",
      "metadata": {
        "id": "dJJtALGZHrGk"
      },
      "source": [
        "\n",
        "\n",
        "Reporte del mejor modelo.\n"
      ]
    },
    {
      "cell_type": "code",
      "execution_count": 29,
      "metadata": {
        "id": "ETv4VLjP1GYt"
      },
      "outputs": [
        {
          "name": "stdout",
          "output_type": "stream",
          "text": [
            "Resultados en el Conjunto de Prueba para la Regresión Logística:\n",
            "Exactitud: 83.00%\n",
            "Matriz de Confusión:\n",
            "[[137  30]\n",
            " [ 21 112]]\n",
            "Reporte de Clasificación:\n",
            "              precision    recall  f1-score   support\n",
            "\n",
            "         0.0       0.87      0.82      0.84       167\n",
            "         1.0       0.79      0.84      0.81       133\n",
            "\n",
            "    accuracy                           0.83       300\n",
            "   macro avg       0.83      0.83      0.83       300\n",
            "weighted avg       0.83      0.83      0.83       300\n",
            "\n"
          ]
        }
      ],
      "source": [
        "# ******* Inlcuye a continuación todas las líneas de código y celdas que requieras: ***********\n",
        "\n",
        "# Predicciones en el conjunto de prueba\n",
        "y_pred_test = logistic_model.predict(testEmb)\n",
        "\n",
        "# Calcular la exactitud y otros indicadores de rendimiento\n",
        "accuracy_test = accuracy_score(y_test, y_pred_test) * 100  # Convertir a porcentaje\n",
        "conf_matrix = confusion_matrix(y_test, y_pred_test)\n",
        "class_report = classification_report(y_test, y_pred_test)\n",
        "\n",
        "# Mostrar los resultados\n",
        "print(\"Resultados en el Conjunto de Prueba para la Regresión Logística:\")\n",
        "print(f\"Exactitud: {accuracy_test:.2f}%\")  # Formatear como número flotante con dos decimales\n",
        "print(\"Matriz de Confusión:\")\n",
        "print(conf_matrix)\n",
        "print(\"Reporte de Clasificación:\")\n",
        "print(class_report)\n",
        "\n",
        "# *********** Aquí termina la sección de agregar código *************\n"
      ]
    },
    {
      "cell_type": "markdown",
      "metadata": {
        "id": "YCkh2WfN1MC1"
      },
      "source": [
        "#**Pregunta - 10:**"
      ]
    },
    {
      "cell_type": "markdown",
      "metadata": {
        "id": "4ySFuDQtVuK5"
      },
      "source": [
        "Incluye tus comentarios finales de la actividad.\n",
        "\n",
        "### ++++++++ Inicia la sección de agregar texto: +++++++++++\n",
        "\n",
        "\n",
        "Para esta tarea empezamos unificando los datos de Amazon, IMDb y Yelp en un único DataFrame, seguido de una limpieza (tokenización, eliminación de caracteres especiales y lematización). Luego, generamos un vocabulario relevante usando el conjunto de entrenamiento y filtramos los conjuntos de entrenamiento, validación y prueba para incluir solo palabras de este vocabulario.\n",
        "\n",
        "Luego, implementamos vectores embebidos preentrenados de FastText para representar las palabras y calculamos el vector promedio de las palabras para cada comentario, transformándolo en un vector de dimensión fija de 300 dimensiones. Después de eso, entrenamos y evaluamos los modelos de Regresión Logística y Bosque Aleatorio, calculando métricas de exactitud y generando reportes de clasificación, destacando la Regresión Logística por su simplicidad.\n",
        "\n",
        "Al final,  el modelo de Regresión Logística es el mas optimo en este caso, El random forest tiene una ligera ventaja en términos de exactitud en el conjunto de validación. Sin embargo, muestra signos de sobreajuste, ya que la exactitud en el conjunto de entrenamiento es mucho mayor que en el conjunto de validación. Por otro lado, la regresión logística tiene una menor diferencia entre las exactitudes de entrenamiento y validación, lo que indica un modelo más generalizable con menos sobreajuste.\n",
        "\n",
        "Esta tarea nos brindo un mejor manejo de datos de texto. sobretodo lo referente a la importancia del preprocesamiento, la utilidad de los vectores embebidos y la evaluación rigurosa de modelos.\n",
        "\n",
        "### ++++++++ Termina la sección de agregar texto: +++++++++++"
      ]
    },
    {
      "cell_type": "markdown",
      "metadata": {
        "id": "bgKHmQTbWJT1"
      },
      "source": [
        "##**Fin de la Actividad de vectores Embebidos - FastText**"
      ]
    }
  ],
  "metadata": {
    "colab": {
      "provenance": []
    },
    "kernelspec": {
      "display_name": "Python 3",
      "name": "python3"
    },
    "language_info": {
      "codemirror_mode": {
        "name": "ipython",
        "version": 3
      },
      "file_extension": ".py",
      "mimetype": "text/x-python",
      "name": "python",
      "nbconvert_exporter": "python",
      "pygments_lexer": "ipython3",
      "version": "3.11.1"
    }
  },
  "nbformat": 4,
  "nbformat_minor": 0
}
